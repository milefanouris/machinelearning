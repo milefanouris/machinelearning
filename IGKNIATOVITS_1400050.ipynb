{
 "cells": [
  {
   "cell_type": "code",
   "execution_count": 82,
   "outputs": [
    {
     "name": "stdout",
     "output_type": "stream",
     "text": [
      "Run classifiers with initial size\n",
      "1-NN Mean score:  0.6333333333333332\n",
      "SVM Mean score:  0.7333333333333334\n",
      "********************************************************************************\n",
      "Run classifiers with pca size\n",
      "1-NN Mean score:  0.5999999999999999\n",
      "SVM Mean score:  0.7666666666666667\n"
     ]
    }
   ],
   "source": [
    "import os\n",
    "\n",
    "import numpy as np\n",
    "from PIL import Image\n",
    "from sklearn import svm\n",
    "from sklearn.decomposition import PCA\n",
    "from sklearn.model_selection import cross_val_score\n",
    "from sklearn.neighbors import KNeighborsClassifier\n",
    "\n",
    "size_100 = (100,100)\n",
    "path = \"images\"\n",
    "\n",
    "def loadImages(path):\n",
    "\n",
    "    '''\n",
    "    :param path: absolute path of images\n",
    "    :return: 2 arrays. The first one is an numpy array of numpy arrays\n",
    "    30 rows of (10000,3). 100*100 pixels each one described\n",
    "    by a tuple of 3 values (r,g,b)\n",
    "    The second one dimensional array contains the image labels\n",
    "    '''\n",
    "    listOfImages = []\n",
    "    labels = []\n",
    "    for imageFileName in os.listdir(path):\n",
    "        image = Image.open(path+\"/\"+imageFileName)\n",
    "        image = image.resize(size_100)\n",
    "        '''\n",
    "        we reshape every image to an 1d array with size 100*100.\n",
    "        each row contains a tuple with (r,g,b) values\n",
    "        '''\n",
    "        listOfImages.append(np.reshape(image, (100, 100*3)))\n",
    "        if imageFileName.startswith('W'):\n",
    "            labels.append(0)\n",
    "        elif imageFileName.startswith('F'):\n",
    "            labels.append(1)\n",
    "        else:\n",
    "            imageFileName.startswith('S')\n",
    "            labels.append(2)\n",
    "    return np.asarray(listOfImages),np.asarray(labels)\n",
    "\n",
    "def PCA_ImageSpaceVisualization(arrayOfImages):\n",
    "    arrayOfReducedSizeImages = []\n",
    "\n",
    "    for image in arrayOfImages:\n",
    "        pca = PCA(2).fit(image)\n",
    "        imageCompressed = pca.transform(image)\n",
    "        '''\n",
    "        we inverse transform image to see the difference\n",
    "        between the initial and the \"pcaed\" one. The PCAed\n",
    "        image has size (100,2)\n",
    "        '''\n",
    "        imageReversed = pca.inverse_transform(imageCompressed)\n",
    "        '''\n",
    "        we reshape that image to the initial size\n",
    "        at (100,100,3). FOr sure we have lost a lot of image\n",
    "        information\n",
    "        '''\n",
    "        imageReversedToInitialSize = np.reshape(imageReversed, (100,100,3))\n",
    "        arrayOfReducedSizeImages.append(imageReversedToInitialSize)\n",
    "\n",
    "\n",
    "    # fig = plt.figure()\n",
    "    # for n,image in enumerate(plotData):\n",
    "    #     plt.imshow(image.astype('uint8'))\n",
    "    #     # ax = fig.add_subplot(1,30,n+1)\n",
    "    #     # plt.imshow(image.astype('uint8'),ax)\n",
    "    #\n",
    "    # # fig.set_size_inches(np.array(fig.get_size_inches()) * 30)\n",
    "    # plt.show()\n",
    "    return arrayOfReducedSizeImages\n",
    "\n",
    "def classification(images,labels):\n",
    "    \"\"\"\n",
    "    flatten images to size (100*100*3,1)\n",
    "    so as to match the knn input data\n",
    "    \"\"\"\n",
    "    images = [np.reshape(image,-1) for image in images]\n",
    "    knn = KNeighborsClassifier(1)\n",
    "    scores = cross_val_score(knn, images, labels, cv=5, scoring='accuracy')\n",
    "    knn_mean = scores.mean()\n",
    "\n",
    "    svm_clf = svm.SVC(kernel='linear', C=1)\n",
    "    scores = cross_val_score(svm_clf, images, labels, cv=5, scoring='accuracy')\n",
    "    svm_mean = scores.mean()\n",
    "    print(\"1-NN Mean score: \",knn_mean)\n",
    "    print(\"SVM Mean score: \",svm_mean)\n",
    "\n",
    "\n",
    "\n",
    "if __name__ == '__main__':\n",
    "   arrayOfImages, arrayOfLabels = loadImages(path)\n",
    "   arrayOfReducedSizeImages = PCA_ImageSpaceVisualization(arrayOfImages)\n",
    "   print(\"Run classifiers with initial size\")\n",
    "   classification(arrayOfImages,arrayOfLabels)\n",
    "   print(80*\"*\")\n",
    "   print(\"Run classifiers with pca size\")\n",
    "   classification(arrayOfReducedSizeImages,arrayOfLabels)"
   ],
   "metadata": {
    "collapsed": false,
    "pycharm": {
     "name": "#%%\n"
    }
   }
  },
  {
   "cell_type": "code",
   "execution_count": null,
   "outputs": [],
   "source": [
    "def RegNMF(X,k,l,epsilon):\n",
    "    pass\n"
   ],
   "metadata": {
    "collapsed": false,
    "pycharm": {
     "name": "#%%\n"
    }
   }
  }
 ],
 "metadata": {
  "kernelspec": {
   "display_name": "Python 3",
   "language": "python",
   "name": "python3"
  },
  "language_info": {
   "codemirror_mode": {
    "name": "ipython",
    "version": 3
   },
   "file_extension": ".py",
   "mimetype": "text/x-python",
   "name": "python",
   "nbconvert_exporter": "python",
   "pygments_lexer": "ipython3",
   "version": "3.8.3"
  }
 },
 "nbformat": 4,
 "nbformat_minor": 1
}