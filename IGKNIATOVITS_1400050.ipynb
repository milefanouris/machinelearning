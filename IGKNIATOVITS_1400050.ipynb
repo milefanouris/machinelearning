{
 "cells": [
  {
   "cell_type": "code",
   "execution_count": 32,
   "outputs": [
    {
     "data": {
      "text/plain": "<Figure size 432x288 with 1 Axes>",
      "image/png": "[encoded data removed]"
     },
     "metadata": {
      "needs_background": "light"
     },
     "output_type": "display_data"
    },
    {
     "name": "stdout",
     "output_type": "stream",
     "text": [
      "Run classifiers with initial size\n",
      "1-NN Mean score:  0.6333333333333332\n",
      "SVM Mean score:  0.7333333333333334\n",
      "********************************************************************************\n",
      "Run classifiers with pca size\n",
      "1-NN Mean score:  0.5666666666666667\n",
      "SVM Mean score:  0.6\n"
     ]
    }
   ],
   "source": [
    "import os\n",
    "\n",
    "import matplotlib.pyplot as plt\n",
    "import numpy as np\n",
    "from PIL import Image\n",
    "from matplotlib import offsetbox\n",
    "from matplotlib.offsetbox import OffsetImage, AnnotationBbox\n",
    "from sklearn import svm\n",
    "from sklearn.decomposition import PCA\n",
    "from sklearn.model_selection import cross_val_score\n",
    "from sklearn.neighbors import KNeighborsClassifier\n",
    "\n",
    "size_100 = (100,100)\n",
    "path = \"images\"\n",
    "\n",
    "def loadImages(path):\n",
    "\n",
    "    '''\n",
    "    :param path: absolute path of images\n",
    "    :return: 2 arrays. The first one is an numpy array of numpy arrays\n",
    "    30 rows of (10000,3). 100*100 pixels each one described\n",
    "    by a tuple of 3 values (r,g,b)\n",
    "    The second one dimensional array contains the image labels\n",
    "    '''\n",
    "    listOfImages = []\n",
    "    labels = []\n",
    "    for imageFileName in os.listdir(path):\n",
    "        image = Image.open(path+\"/\"+imageFileName)\n",
    "        image = image.resize(size_100)\n",
    "        '''\n",
    "        we reshape every image to an 1d array with size 100*100.\n",
    "        each row contains a tuple with (r,g,b) values\n",
    "        '''\n",
    "        listOfImages.append(np.reshape(image, (100*100,3)))\n",
    "        if imageFileName.startswith('W'):\n",
    "            labels.append(0)\n",
    "        elif imageFileName.startswith('F'):\n",
    "            labels.append(1)\n",
    "        else:\n",
    "            imageFileName.startswith('S')\n",
    "            labels.append(2)\n",
    "    return np.asarray(listOfImages),np.asarray(labels)\n",
    "\n",
    "def PCA_ImageSpaceVisualization(images):\n",
    "    listOfPCAComponents = []\n",
    "    projectedImages = []\n",
    "\n",
    "    for image in images:\n",
    "        pca = PCA(2).fit(image)\n",
    "        projectedImage = pca.transform(image)\n",
    "        listOfPCAComponents.append(pca)\n",
    "        projectedImages.append(projectedImage)\n",
    "\n",
    "    centroids = []\n",
    "    for projectedImage in projectedImages:\n",
    "        centroids.append(centeroidnp(projectedImage))\n",
    "    centroidsNormalized = normalize(centroids)\n",
    "\n",
    "    fig, ax = plt.subplots()\n",
    "    for n,projectedImage in enumerate(projectedImages):\n",
    "        imagebox = OffsetImage(np.reshape(images[n], (100,100,3)), zoom=.05)\n",
    "        imagebox.image.axes = ax\n",
    "        ab = AnnotationBbox(imagebox,xy = centroidsNormalized[n])\n",
    "        ax.add_artist(ab)\n",
    "        ax.set_xlim(-5,7)\n",
    "        ax.set_ylim(-5,7)\n",
    "    plt.draw()\n",
    "    plt.show()\n",
    "    return projectedImages\n",
    "\n",
    "def centeroidnp(arr):\n",
    "    length = arr.shape[0]\n",
    "    sum_x = np.sum(arr[:, 0])\n",
    "    sum_y = np.sum(arr[:, 1])\n",
    "    return sum_x/length, sum_y/length\n",
    "\n",
    "def normalize(points):\n",
    "    row_sums = np.array(points).sum(axis=1)\n",
    "    return np.array(points) / row_sums[:, np.newaxis]\n",
    "\n",
    "def classification(images,labels):\n",
    "    \"\"\"\n",
    "    flatten images to size (100*100*3,1)\n",
    "    so as to match the knn input data\n",
    "    \"\"\"\n",
    "    images = [np.reshape(image,-1) for image in images]\n",
    "    knn = KNeighborsClassifier(1)\n",
    "    scores = cross_val_score(knn, images, labels, cv=5, scoring='accuracy')\n",
    "    knn_mean = scores.mean()\n",
    "\n",
    "    svm_clf = svm.SVC(kernel='linear', C=1)\n",
    "    scores = cross_val_score(svm_clf, images, labels, cv=5, scoring='accuracy')\n",
    "    svm_mean = scores.mean()\n",
    "    print(\"1-NN Mean score: \",knn_mean)\n",
    "    print(\"SVM Mean score: \",svm_mean)\n",
    "\n",
    "\n",
    "\n",
    "if __name__ == '__main__':\n",
    "   arrayOfImages, arrayOfLabels = loadImages(path)\n",
    "   arrayOfReducedSizeImages = PCA_ImageSpaceVisualization(arrayOfImages)\n",
    "   print(\"Run classifiers with initial size\")\n",
    "   classification(arrayOfImages,arrayOfLabels)\n",
    "   print(80*\"*\")\n",
    "   print(\"Run classifiers with pca size\")\n",
    "   classification(arrayOfReducedSizeImages,arrayOfLabels)\n",
    "\n",
    "\n",
    "\n"
   ],
   "metadata": {
    "collapsed": false,
    "pycharm": {
     "name": "#%%\n"
    }
   }
  },
  {
   "cell_type": "code",
   "execution_count": 33,
   "outputs": [],
   "source": [
    "# def RegNMF(X,k,l,epsilon):\n",
    "#\n",
    "#     # while True:\n",
    "#\n",
    "#\n",
    "# if __name__ == '__main__':\n",
    "#     X = random.rand(500,1000)\n",
    "#     l = 0.5\n",
    "#     for k in (1,10,100):\n",
    "#         for epsilon in (0.1,0.01,0.001):\n",
    "#             RegNMF(X,k,l,epsilon)"
   ],
   "metadata": {
    "collapsed": false,
    "pycharm": {
     "name": "#%%\n"
    }
   }
  }
 ],
 "metadata": {
  "kernelspec": {
   "display_name": "Python 3",
   "language": "python",
   "name": "python3"
  },
  "language_info": {
   "codemirror_mode": {
    "name": "ipython",
    "version": 3
   },
   "file_extension": ".py",
   "mimetype": "text/x-python",
   "name": "python",
   "nbconvert_exporter": "python",
   "pygments_lexer": "ipython3",
   "version": "3.8.3"
  }
 },
 "nbformat": 4,
 "nbformat_minor": 1
}